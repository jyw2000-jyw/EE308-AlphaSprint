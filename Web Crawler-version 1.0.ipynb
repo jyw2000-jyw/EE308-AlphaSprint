{
 "cells": [
  {
   "cell_type": "code",
   "execution_count": 1,
   "id": "4f4f0cd6",
   "metadata": {},
   "outputs": [],
   "source": [
    "import requests\n",
    "id = 'jyw2000-jyw'\n",
    "repos_name = 'EE308-Lab5'"
   ]
  },
  {
   "cell_type": "code",
   "execution_count": 2,
   "id": "cd4cd293",
   "metadata": {},
   "outputs": [],
   "source": [
    "def userInfo():\n",
    "    Allrepos_api_url = 'https://api.github.com/users/'+ id + '/repos?per_page=20' # url拼接与解析\n",
    "    req = requests.get(Allrepos_api_url)\n",
    "    req_list1 = req.json()\n",
    "\n",
    "    print(f'用户\"{id}\"有如下{len(req_list1)}个仓库：\\n')\n",
    "\n",
    "    # 显示所需数据\n",
    "    for s in range(0,len(req_list1)):\n",
    "        print(f'仓库{s+1}：',req_list1[s]['name'])\n",
    "        print('描述：',req_list1[s]['description'])\n",
    "        print('创建时间：',req_list1[s]['created_at'])\n",
    "        print('语言：',req_list1[s]['language'])\n",
    "        print('watch数量：',req_list1[s]['watchers'])\n",
    "        print('star数量：',req_list1[s]['watchers_count'])\n",
    "        print('fork数量：',req_list1[s]['forks'])\n",
    "        print('----------------------------------------')"
   ]
  },
  {
   "cell_type": "code",
   "execution_count": null,
   "id": "8463f8f1",
   "metadata": {},
   "outputs": [],
   "source": []
  }
 ],
 "metadata": {
  "kernelspec": {
   "display_name": "Python 3",
   "language": "python",
   "name": "python3"
  },
  "language_info": {
   "codemirror_mode": {
    "name": "ipython",
    "version": 3
   },
   "file_extension": ".py",
   "mimetype": "text/x-python",
   "name": "python",
   "nbconvert_exporter": "python",
   "pygments_lexer": "ipython3",
   "version": "3.8.8"
  }
 },
 "nbformat": 4,
 "nbformat_minor": 5
}
